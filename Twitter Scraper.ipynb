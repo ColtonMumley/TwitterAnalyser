{
 "cells": [
  {
   "cell_type": "code",
   "execution_count": 423,
   "metadata": {},
   "outputs": [],
   "source": [
    "%matplotlib inline\n",
    "import numpy as np\n",
    "import matplotlib.pyplot as plt\n",
    "import urllib\n",
    "import urllib.request\n",
    "from bs4 import BeautifulSoup\n",
    "import pandas as pd"
   ]
  },
  {
   "cell_type": "code",
   "execution_count": 424,
   "metadata": {},
   "outputs": [
    {
     "name": "stdout",
     "output_type": "stream",
     "text": [
      "Enter the username:elonmusk\n",
      "https://twitter.com/elonmusk\n"
     ]
    }
   ],
   "source": [
    "a = input('Enter the username:')\n",
    "source = 'https://twitter.com/' + a\n",
    "page = urllib.request.urlopen(source)\n",
    "soup = BeautifulSoup(page, 'lxml')\n",
    "print(source)"
   ]
  },
  {
   "cell_type": "code",
   "execution_count": 458,
   "metadata": {},
   "outputs": [],
   "source": [
    "#number of replies\n",
    "replies = []\n",
    "for link in soup.findAll('span', 'ProfileTweet-action--reply u-hiddenVisually'):\n",
    "    replies.append(int((link.find('span', 'ProfileTweet-actionCount')['data-tweet-stat-count'] or '0')))"
   ]
  },
  {
   "cell_type": "code",
   "execution_count": 459,
   "metadata": {},
   "outputs": [],
   "source": [
    "#number of retweets\n",
    "retweets = []\n",
    "for link in soup.findAll('span', 'ProfileTweet-action--retweet u-hiddenVisually'):\n",
    "    retweets.append(int((link.find('span', 'ProfileTweet-actionCount')['data-tweet-stat-count'] or '0')))"
   ]
  },
  {
   "cell_type": "code",
   "execution_count": 460,
   "metadata": {},
   "outputs": [],
   "source": [
    "#number of favorites\n",
    "favorites = []\n",
    "for link in soup.findAll('span', 'ProfileTweet-action--favorite u-hiddenVisually'):\n",
    "    favorites.append(int((link.find('span', 'ProfileTweet-actionCount')['data-tweet-stat-count'] or '0')))"
   ]
  },
  {
   "cell_type": "code",
   "execution_count": 461,
   "metadata": {},
   "outputs": [],
   "source": [
    "#date\n",
    "dates = []\n",
    "for link in soup.findAll('span', class_=['_timestamp js-short-timestamp ', '_timestamp js-short-timestamp js-relative-timestamp']):\n",
    "    dates.append(link.text)"
   ]
  },
  {
   "cell_type": "code",
   "execution_count": 462,
   "metadata": {},
   "outputs": [
    {
     "name": "stdout",
     "output_type": "stream",
     "text": [
      "20\n"
     ]
    }
   ],
   "source": [
    "#tweet\n",
    "tweets = []\n",
    "for link in soup.findAll('p', class_='TweetTextSize TweetTextSize--normal js-tweet-text tweet-text'):\n",
    "    tweets.append(link.text)\n",
    "print(len(tweets))"
   ]
  },
  {
   "cell_type": "code",
   "execution_count": 463,
   "metadata": {},
   "outputs": [
    {
     "name": "stdout",
     "output_type": "stream",
     "text": [
      "        Replies  Retweets  Favorites\n",
      "Date                                \n",
      "Oct 8       921      3270      27268\n",
      "15h        8253     37961     157669\n",
      "16h        2521     13448      61482\n",
      "Oct 12     3932     27585     167328\n",
      "Oct 12      113       782       5318\n",
      "Oct 12      215      1147       3475\n",
      "Oct 12     1987      8783      50935\n",
      "Oct 12     1617      6755      46889\n",
      "Oct 10     1151      3165      30941\n",
      "Oct 9      1000      4622      36459\n",
      "Oct 9      1218      6295      28425\n",
      "Oct 8       123       689       7527\n",
      "Oct 8       186      1172       6564\n",
      "Oct 8       692     10008      46033\n",
      "Oct 7       118      1463       7991\n",
      "Oct 8       272      1061       5459\n",
      "Oct 8       149      1819      12758\n",
      "Oct 8        82      1208       9046\n",
      "Oct 8       454      4116      48503\n",
      "Oct 7       879     11717      79605\n"
     ]
    }
   ],
   "source": [
    "data = pd.DataFrame({'Replies':replies, 'Retweets':retweets, 'Favorites':favorites, 'Date':dates})\n",
    "data.set_index('Date', inplace = True)\n",
    "print(data)"
   ]
  },
  {
   "cell_type": "code",
   "execution_count": 464,
   "metadata": {},
   "outputs": [
    {
     "name": "stdout",
     "output_type": "stream",
     "text": [
      "AxesSubplot(0.125,0.125;0.775x0.755)\n"
     ]
    },
    {
     "data": {
      "image/png": "[encoded data removed]",
      "text/plain": [
       "<Figure size 432x288 with 1 Axes>"
      ]
     },
     "metadata": {},
     "output_type": "display_data"
    }
   ],
   "source": [
    "data_stacked_bar = data.plot(kind='bar', stacked=True)\n",
    "data_stacked_bar.set_ylabel('Amount')\n",
    "print(data_stacked_bar)"
   ]
  },
  {
   "cell_type": "code",
   "execution_count": 465,
   "metadata": {},
   "outputs": [
    {
     "name": "stdout",
     "output_type": "stream",
     "text": [
      "41983.75\n",
      "7353.3\n",
      "1294.15\n"
     ]
    }
   ],
   "source": [
    "print(data.Favorites.mean())\n",
    "print(data.Retweets.mean())\n",
    "print(data.Replies.mean())"
   ]
  },
  {
   "cell_type": "code",
   "execution_count": 466,
   "metadata": {},
   "outputs": [
    {
     "name": "stdout",
     "output_type": "stream",
     "text": [
      "29683.0\n",
      "3693.0\n",
      "785.5\n"
     ]
    }
   ],
   "source": [
    "print(data.Favorites.median())\n",
    "print(data.Retweets.median())\n",
    "print(data.Replies.median())"
   ]
  },
  {
   "cell_type": "code",
   "execution_count": null,
   "metadata": {},
   "outputs": [],
   "source": []
  },
  {
   "cell_type": "code",
   "execution_count": null,
   "metadata": {},
   "outputs": [],
   "source": []
  }
 ],
 "metadata": {
  "kernelspec": {
   "display_name": "Python 3",
   "language": "python",
   "name": "python3"
  },
  "language_info": {
   "codemirror_mode": {
    "name": "ipython",
    "version": 3
   },
   "file_extension": ".py",
   "mimetype": "text/x-python",
   "name": "python",
   "nbconvert_exporter": "python",
   "pygments_lexer": "ipython3",
   "version": "3.6.5"
  }
 },
 "nbformat": 4,
 "nbformat_minor": 2
}
