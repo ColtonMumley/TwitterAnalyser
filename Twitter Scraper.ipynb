{
 "cells": [
  {
   "cell_type": "code",
   "execution_count": 4,
   "metadata": {},
   "outputs": [],
   "source": [
    "%matplotlib inline\n",
    "import numpy as np\n",
    "import matplotlib.pyplot as plt\n",
    "import urllib\n",
    "import urllib.request\n",
    "from bs4 import BeautifulSoup\n",
    "import pandas as pd"
   ]
  },
  {
   "cell_type": "code",
   "execution_count": 5,
   "metadata": {},
   "outputs": [
    {
     "name": "stdout",
     "output_type": "stream",
     "text": [
      "Enter the username:elonmusk\n",
      "https://twitter.com/elonmusk\n"
     ]
    }
   ],
   "source": [
    "a = input('Enter the username:')\n",
    "source = 'https://twitter.com/' + a\n",
    "page = urllib.request.urlopen(source)\n",
    "soup = BeautifulSoup(page, 'lxml')\n",
    "print(source)"
   ]
  },
  {
   "cell_type": "code",
   "execution_count": 6,
   "metadata": {},
   "outputs": [],
   "source": [
    "#number of replies\n",
    "replies = []\n",
    "for link in soup.findAll('span', 'ProfileTweet-action--reply u-hiddenVisually'):\n",
    "    replies.append(int((link.find('span', 'ProfileTweet-actionCount')['data-tweet-stat-count'] or '0')))"
   ]
  },
  {
   "cell_type": "code",
   "execution_count": 7,
   "metadata": {},
   "outputs": [],
   "source": [
    "#number of retweets\n",
    "retweets = []\n",
    "for link in soup.findAll('span', 'ProfileTweet-action--retweet u-hiddenVisually'):\n",
    "    retweets.append(int((link.find('span', 'ProfileTweet-actionCount')['data-tweet-stat-count'] or '0')))"
   ]
  },
  {
   "cell_type": "code",
   "execution_count": 8,
   "metadata": {},
   "outputs": [],
   "source": [
    "#number of favorites\n",
    "favorites = []\n",
    "for link in soup.findAll('span', 'ProfileTweet-action--favorite u-hiddenVisually'):\n",
    "    favorites.append(int((link.find('span', 'ProfileTweet-actionCount')['data-tweet-stat-count'] or '0')))"
   ]
  },
  {
   "cell_type": "code",
   "execution_count": 9,
   "metadata": {},
   "outputs": [],
   "source": [
    "#date\n",
    "dates = []\n",
    "for link in soup.findAll('span', class_=['_timestamp js-short-timestamp ', '_timestamp js-short-timestamp js-relative-timestamp']):\n",
    "    dates.append(link.text)"
   ]
  },
  {
   "cell_type": "code",
   "execution_count": 10,
   "metadata": {},
   "outputs": [
    {
     "name": "stdout",
     "output_type": "stream",
     "text": [
      "20\n"
     ]
    }
   ],
   "source": [
    "#tweet\n",
    "tweets = []\n",
    "for link in soup.findAll('p', class_='TweetTextSize TweetTextSize--normal js-tweet-text tweet-text'):\n",
    "    tweets.append(link.text)\n",
    "print(len(tweets))"
   ]
  },
  {
   "cell_type": "code",
   "execution_count": 11,
   "metadata": {},
   "outputs": [
    {
     "name": "stdout",
     "output_type": "stream",
     "text": [
      "        Replies  Retweets  Favorites\n",
      "Date                                \n",
      "Oct 8       932      3284      27375\n",
      "17h        8699     40374     166514\n",
      "18h        2658     14226      64557\n",
      "Oct 12     3939     27674     167828\n",
      "Oct 12      215      1157       3495\n",
      "Oct 12     1994      8805      51126\n",
      "Oct 12     1619      6766      46953\n",
      "Oct 10     1153      3170      30987\n",
      "Oct 9      1001      4626      36487\n",
      "Oct 9      1220      6296      28441\n",
      "Oct 8       123       690       7540\n",
      "Oct 8       186      1172       6577\n",
      "Oct 8       694     10016      46088\n",
      "Oct 7       118      1463       8001\n",
      "Oct 8       272      1062       5464\n",
      "Oct 8       149      1828      12787\n",
      "Oct 8        82      1215       9065\n",
      "Oct 8       455      4118      48520\n",
      "Oct 7       880     11720      79628\n",
      "Oct 7      1791     25731     189999\n"
     ]
    }
   ],
   "source": [
    "#combines replies, retweets, favorites, and dates to one dataframe\n",
    "data = pd.DataFrame({'Replies':replies, 'Retweets':retweets, 'Favorites':favorites, 'Date':dates})\n",
    "data.set_index('Date', inplace = True)\n",
    "print(data)"
   ]
  },
  {
   "cell_type": "code",
   "execution_count": 12,
   "metadata": {},
   "outputs": [
    {
     "name": "stdout",
     "output_type": "stream",
     "text": [
      "AxesSubplot(0.125,0.125;0.775x0.755)\n"
     ]
    },
    {
     "data": {
      "image/png": "[encoded data removed]",
      "text/plain": [
       "<Figure size 432x288 with 1 Axes>"
      ]
     },
     "metadata": {},
     "output_type": "display_data"
    }
   ],
   "source": [
    "#creates a stacked bar graph of replies, retweets, and favorites\n",
    "data_stacked_bar = data.plot(kind='bar', stacked=True)\n",
    "data_stacked_bar.set_ylabel('Amount')\n",
    "print(data_stacked_bar)"
   ]
  },
  {
   "cell_type": "code",
   "execution_count": 13,
   "metadata": {},
   "outputs": [],
   "source": [
    "#finds mean of favorites, retweets, and replies\n",
    "fav_mean = data.Favorites.mean()\n",
    "rt_mean = data.Retweets.mean()\n",
    "reply_mean = data.Replies.mean()"
   ]
  },
  {
   "cell_type": "code",
   "execution_count": 16,
   "metadata": {},
   "outputs": [],
   "source": [
    "#finds median of favorites, retweets, and replies\n",
    "fav_med = data.Favorites.median()\n",
    "rt_med = data.Retweets.median()\n",
    "reply_med = data.Replies.median()"
   ]
  },
  {
   "cell_type": "code",
   "execution_count": 47,
   "metadata": {},
   "outputs": [
    {
     "name": "stdout",
     "output_type": "stream",
     "text": [
      "              Means  Medians\n",
      "Labels                      \n",
      "Favorites  51871.60  33737.0\n",
      "Retweets    8769.65   4372.0\n",
      "Replies     1409.00    906.0\n"
     ]
    },
    {
     "data": {
      "image/png": "[encoded data removed]",
      "text/plain": [
       "<Figure size 432x288 with 1 Axes>"
      ]
     },
     "metadata": {},
     "output_type": "display_data"
    }
   ],
   "source": [
    "means = [fav_mean, rt_mean, reply_mean]\n",
    "medians = [fav_med, rt_med, reply_med]\n",
    "labels = ['Favorites','Retweets','Replies']\n",
    "means_medians = pd.DataFrame({'Means':means, 'Medians':medians, 'Labels':labels})\n",
    "means_medians.set_index('Labels', inplace=True)\n",
    "mm_plot = means_medians.plot(kind='bar')\n",
    "mm_plot.set_xlabel('')\n",
    "print(means_medians)"
   ]
  },
  {
   "cell_type": "code",
   "execution_count": null,
   "metadata": {},
   "outputs": [],
   "source": []
  },
  {
   "cell_type": "code",
   "execution_count": null,
   "metadata": {},
   "outputs": [],
   "source": []
  },
  {
   "cell_type": "code",
   "execution_count": null,
   "metadata": {},
   "outputs": [],
   "source": []
  }
 ],
 "metadata": {
  "kernelspec": {
   "display_name": "Python 3",
   "language": "python",
   "name": "python3"
  },
  "language_info": {
   "codemirror_mode": {
    "name": "ipython",
    "version": 3
   },
   "file_extension": ".py",
   "mimetype": "text/x-python",
   "name": "python",
   "nbconvert_exporter": "python",
   "pygments_lexer": "ipython3",
   "version": "3.6.5"
  }
 },
 "nbformat": 4,
 "nbformat_minor": 2
}
